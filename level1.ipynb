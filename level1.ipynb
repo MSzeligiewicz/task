{
  "nbformat": 4,
  "nbformat_minor": 0,
  "metadata": {
    "colab": {
      "name": "level1.ipynb",
      "provenance": []
    },
    "kernelspec": {
      "name": "python3",
      "display_name": "Python 3"
    },
    "language_info": {
      "name": "python"
    }
  },
  "cells": [
    {
      "cell_type": "code",
      "metadata": {
        "colab": {
          "base_uri": "https://localhost:8080/"
        },
        "id": "OQk-RQSglaTu",
        "outputId": "86eaf631-8dd4-4d13-cbc1-7a11e1ee4262"
      },
      "source": [
        "pip install pondslider"
      ],
      "execution_count": 27,
      "outputs": [
        {
          "output_type": "stream",
          "name": "stdout",
          "text": [
            "Requirement already satisfied: pondslider in /usr/local/lib/python3.7/dist-packages (0.4.3)\n",
            "Requirement already satisfied: pytoml in /usr/local/lib/python3.7/dist-packages (from pondslider) (0.1.21)\n"
          ]
        }
      ]
    },
    {
      "cell_type": "code",
      "metadata": {
        "id": "Mo_-IoOzrQ9H"
      },
      "source": [
        "import json\n",
        "import datetime"
      ],
      "execution_count": 44,
      "outputs": []
    },
    {
      "cell_type": "code",
      "metadata": {
        "id": "D_vZ5FWXlkg1"
      },
      "source": [
        "sensor1 = {\n",
        "   \"sensor_id\": \"uuid1\",\n",
        "   \"model\": \"WS-0001\",\n",
        "   \"payload\": \" asd \"\n",
        "}\n",
        "\n",
        "sensor2 = {\n",
        "   \"sensor_id\": \"uuid2\",\n",
        "   \"model\": \"WS-0002\",\n",
        "   \"payload\": \" asd \"\n",
        "}\n",
        "\n",
        "sensor3 = {\n",
        "   \"sensor_id\": \"uuid3\",\n",
        "   \"model\": \"WS-0003\",\n",
        "   \"payload\": \" asd \"\n",
        "}\n",
        "\n",
        "sensor4 = {\n",
        "   \"sensor_id\": \"uuid4\",\n",
        "   \"model\": \"WS-0004\",\n",
        "   \"payload\": \" asd \"\n",
        "}\n",
        "\n",
        "#dict to json\n",
        "json_sensor1 = json.dumps(sensor1, indent = 3)\n",
        "\n",
        "#json to dict\n",
        "dict_sensor1 = json.loads(json_sensor1)"
      ],
      "execution_count": 68,
      "outputs": []
    },
    {
      "cell_type": "code",
      "metadata": {
        "id": "pcKI67-YqD5f"
      },
      "source": [
        "def trim(sensor):\n",
        "  clean = {k:v.strip() for k, v in sensor.items()}\n",
        "  return clean"
      ],
      "execution_count": 62,
      "outputs": []
    },
    {
      "cell_type": "code",
      "metadata": {
        "colab": {
          "base_uri": "https://localhost:8080/"
        },
        "id": "wcR7fAdtqtRX",
        "outputId": "308c4bc0-576f-45d0-e6b0-8245bd7bd8e2"
      },
      "source": [
        "def padToMultiple(sensor, char, N):\n",
        "  sensor[\"payload\"] = sensor[\"payload\"]+N*char\n",
        "  return sensor"
      ],
      "execution_count": 36,
      "outputs": [
        {
          "output_type": "stream",
          "name": "stdout",
          "text": [
            "{'sensor_id': 'uuid', 'model': 'WS-0001', 'payload': ' asd #####'}\n"
          ]
        }
      ]
    },
    {
      "cell_type": "code",
      "metadata": {
        "id": "I9W9J2AVvs33"
      },
      "source": [
        "def addTimestamp(sensor):\n",
        "  t = datetime.datetime.now()\n",
        "  ts = t.timestamp()\n",
        "  ts_int = int(ts)\n",
        "  ts_str = str(ts_int)\n",
        "  sensor[\"payload\"] = sensor[\"payload\"]+ts_str\n",
        "  return sensor"
      ],
      "execution_count": 65,
      "outputs": []
    },
    {
      "cell_type": "code",
      "metadata": {
        "colab": {
          "base_uri": "https://localhost:8080/"
        },
        "id": "LWJk4tOvzood",
        "outputId": "8bea8d53-5dc1-4c4c-a33b-315c29ea645a"
      },
      "source": [
        "#WS-0001\n",
        "print(sensor1)\n",
        "\n",
        "#WS-0002\n",
        "sensor2_Nchar = padToMultiple(sensor2, '#', 5)\n",
        "print(sensor2_Nchar)\n",
        "\n",
        "#WS-0003\n",
        "sensor3_trimmed = trim(sensor3)\n",
        "sensor3_Nchar = padToMultiple(sensor3_trimmed, '#', 5)\n",
        "json_sensor3 = json.dumps(sensor3_Nchar, indent = 3)\n",
        "\n",
        "#WS-0004\n",
        "sensor4_trimmed = trim(sensor4)\n",
        "print(sensor4_trimmed)\n",
        "sensor4_Nchar = padToMultiple(sensor4_trimmed, '#', 5)\n",
        "print(sensor4_Nchar)\n",
        "sensor4_ts = addTimestamp(sensor4_Nchar)\n",
        "print(sensor4_ts)\n",
        "json_sensor4 = json.dumps(sensor4_ts, indent = 3)"
      ],
      "execution_count": 70,
      "outputs": [
        {
          "output_type": "stream",
          "name": "stdout",
          "text": [
            "{'sensor_id': 'uuid1', 'model': 'WS-0001', 'payload': ' asd '}\n",
            "{'sensor_id': 'uuid2', 'model': 'WS-0002', 'payload': ' asd ##########'}\n",
            "{'sensor_id': 'uuid4', 'model': 'WS-0004', 'payload': 'asd'}\n",
            "{'sensor_id': 'uuid4', 'model': 'WS-0004', 'payload': 'asd#####'}\n",
            "{'sensor_id': 'uuid4', 'model': 'WS-0004', 'payload': 'asd#####1632739755'}\n"
          ]
        }
      ]
    }
  ]
}